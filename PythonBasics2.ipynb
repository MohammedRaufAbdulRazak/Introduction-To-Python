{
  "nbformat": 4,
  "nbformat_minor": 0,
  "metadata": {
    "colab": {
      "name": "PythonBasics2.ipynb",
      "provenance": [],
      "collapsed_sections": []
    },
    "kernelspec": {
      "name": "python3",
      "display_name": "Python 3"
    },
    "language_info": {
      "name": "python"
    }
  },
  "cells": [
    {
      "cell_type": "code",
      "execution_count": 1,
      "metadata": {
        "id": "xf1mMhjmycEj"
      },
      "outputs": [],
      "source": [
        "x=20"
      ]
    },
    {
      "cell_type": "code",
      "source": [
        "if x>10 :\n",
        "  print(\"x>10\")"
      ],
      "metadata": {
        "colab": {
          "base_uri": "https://localhost:8080/"
        },
        "id": "gRKfM1WQ0VLg",
        "outputId": "3d9b85b9-fb7e-420c-9110-d206bd3748fa"
      },
      "execution_count": 2,
      "outputs": [
        {
          "output_type": "stream",
          "name": "stdout",
          "text": [
            "x>10\n"
          ]
        }
      ]
    },
    {
      "cell_type": "code",
      "source": [
        "x=10\n",
        "if x>10 :\n",
        "  print(\"x>10\")\n",
        "if x<10 :\n",
        "  print(\"x<10\")\n",
        "if x==10 :\n",
        "  print(\"x==10\")"
      ],
      "metadata": {
        "colab": {
          "base_uri": "https://localhost:8080/"
        },
        "id": "uyc0tDpS0_vP",
        "outputId": "ea1ef843-af78-48df-dc8a-552f88b3fd59"
      },
      "execution_count": 3,
      "outputs": [
        {
          "output_type": "stream",
          "name": "stdout",
          "text": [
            "x==10\n"
          ]
        }
      ]
    },
    {
      "cell_type": "code",
      "source": [
        "x=int(input(\"Enter your marks \"))\n",
        "if x>100 :\n",
        "  print(\"Passed\")\n",
        "if x<100 :\n",
        "  print(\"Failed\")\n",
        "if x==100 :\n",
        "  print(\"Just passed\")"
      ],
      "metadata": {
        "colab": {
          "base_uri": "https://localhost:8080/"
        },
        "id": "DfbTJCAs3QEM",
        "outputId": "9f3011e3-cb69-4edf-a61e-5d8d32779cd9"
      },
      "execution_count": 4,
      "outputs": [
        {
          "output_type": "stream",
          "name": "stdout",
          "text": [
            "Enter your marks 231\n",
            "Passed\n"
          ]
        }
      ]
    },
    {
      "cell_type": "code",
      "source": [
        "income=int(input(\"Enter your income \"))\n",
        "if income>250000 :\n",
        "  print(\"Your tax is\", income*(0.1))\n",
        "if income<=250000 :\n",
        "  print(\"Zero tax\")"
      ],
      "metadata": {
        "id": "85Gk2qoH9CwP",
        "colab": {
          "base_uri": "https://localhost:8080/"
        },
        "outputId": "afd6d95f-39bd-44dc-97f2-5b124d6a7ff0"
      },
      "execution_count": 5,
      "outputs": [
        {
          "output_type": "stream",
          "name": "stdout",
          "text": [
            "Enter your income 500000\n",
            "Your tax is 50000.0\n"
          ]
        }
      ]
    },
    {
      "cell_type": "code",
      "source": [
        ""
      ],
      "metadata": {
        "id": "azlJBXsMCtaJ"
      },
      "execution_count": 5,
      "outputs": []
    }
  ]
}